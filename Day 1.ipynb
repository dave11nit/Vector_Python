{
 "cells": [
  {
   "cell_type": "markdown",
   "metadata": {},
   "source": [
    "# Welcome to Day 1"
   ]
  },
  {
   "cell_type": "code",
   "execution_count": 1,
   "metadata": {},
   "outputs": [],
   "source": [
    "# Topics\n",
    "# 1. Some important Stuff(Why Python, Indentation, comments, print statement,input statement,\\n,\\t)\n",
    "# 2. Basic Data Types\n",
    "# 3. Operators"
   ]
  },
  {
   "cell_type": "code",
   "execution_count": 2,
   "metadata": {},
   "outputs": [],
   "source": [
    "# Python,R, Julia\n",
    "# Data Analytics -- Python + Libraries(Pandas, Matplotlib, Seaborn)\n",
    "# Data Science -- Machine Learning(Scikit-learn, Keras, TensorFlow, Pytorch), \n",
    "# Web Development -- Flask, Django\n",
    "# Game development -- PyGames(2d)"
   ]
  },
  {
   "cell_type": "code",
   "execution_count": 3,
   "metadata": {},
   "outputs": [],
   "source": [
    "# Creater -- Guido Van Roussom(BDFL -- benevolent dictator for life) -- retired\n",
    "# Zen of Python --\n",
    "# https://www.python.org/dev/peps/pep-0020/"
   ]
  },
  {
   "cell_type": "code",
   "execution_count": 34,
   "metadata": {},
   "outputs": [
    {
     "name": "stdout",
     "output_type": "stream",
     "text": [
      "69\n"
     ]
    }
   ],
   "source": [
    "# 1. Indentation\n",
    "# Python doesn't use brackets\n",
    "# Ex.\n",
    "def Sum(a,b):\n",
    "    return a + b\n",
    "\n",
    "print(Sum(13, 56))"
   ]
  },
  {
   "cell_type": "code",
   "execution_count": 36,
   "metadata": {},
   "outputs": [
    {
     "name": "stdout",
     "output_type": "stream",
     "text": [
      "I am a Dog\n"
     ]
    }
   ],
   "source": [
    "# This is a comment\n",
    "'''Doc strings, comment'''\n",
    "print('I am a Dog')"
   ]
  },
  {
   "cell_type": "code",
   "execution_count": 37,
   "metadata": {},
   "outputs": [
    {
     "name": "stdout",
     "output_type": "stream",
     "text": [
      "I think Steve Jobs is the most important man of 21th century.\n"
     ]
    }
   ],
   "source": [
    "# Important \n",
    "# print Statement\n",
    "print('I think Steve Jobs is the most important man of 21th century.')"
   ]
  },
  {
   "cell_type": "code",
   "execution_count": 1,
   "metadata": {},
   "outputs": [
    {
     "name": "stdout",
     "output_type": "stream",
     "text": [
      "Changez Khan\n",
      "12th\n",
      "I think Changez Khan is the most important man of 12th century.\n"
     ]
    }
   ],
   "source": [
    "name = input() \n",
    "century = input() \n",
    "print(f'I think {name} is the most important man of {century} century.')"
   ]
  },
  {
   "cell_type": "code",
   "execution_count": 44,
   "metadata": {},
   "outputs": [
    {
     "name": "stdout",
     "output_type": "stream",
     "text": [
      "Train\n",
      "I think Train is the greatest invention of all time by Mohit.\n"
     ]
    }
   ],
   "source": [
    "var = input()\n",
    "print('I think {} is the greatest invention of all time by {}.'.format(var, 'Mohit'))"
   ]
  },
  {
   "cell_type": "code",
   "execution_count": 45,
   "metadata": {},
   "outputs": [
    {
     "name": "stdout",
     "output_type": "stream",
     "text": [
      "One\n",
      "Two\n",
      "Three\n"
     ]
    }
   ],
   "source": [
    "# linechange and tab\n",
    "print('One\\nTwo\\nThree')"
   ]
  },
  {
   "cell_type": "code",
   "execution_count": 46,
   "metadata": {},
   "outputs": [
    {
     "name": "stdout",
     "output_type": "stream",
     "text": [
      "I am Devayan Mishra\n",
      "I will teach \n",
      "you python\n"
     ]
    }
   ],
   "source": [
    "print('''I am Devayan Mishra\n",
    "I will teach \n",
    "you python''')"
   ]
  },
  {
   "cell_type": "code",
   "execution_count": 20,
   "metadata": {},
   "outputs": [
    {
     "name": "stdout",
     "output_type": "stream",
     "text": [
      "One\tTwo\tThree\n"
     ]
    }
   ],
   "source": [
    "# tab is four spaces\n",
    "print('One\\tTwo\\tThree')"
   ]
  },
  {
   "cell_type": "code",
   "execution_count": 23,
   "metadata": {},
   "outputs": [
    {
     "name": "stdout",
     "output_type": "stream",
     "text": [
      "<class 'float'> \n",
      " <class 'str'> \n",
      " <class 'bool'>\n"
     ]
    }
   ],
   "source": [
    "b = 10.6\n",
    "c = 'I am a String'\n",
    "d = True\n",
    "print(type(b),'\\n',type(c),'\\n',type(d))\n"
   ]
  },
  {
   "cell_type": "code",
   "execution_count": 2,
   "metadata": {},
   "outputs": [
    {
     "name": "stdout",
     "output_type": "stream",
     "text": [
      "22\n",
      "7.799999999999999\n",
      "30\n",
      "3.142857142857143\n",
      "4\n",
      "8\n",
      "729\n"
     ]
    }
   ],
   "source": [
    "# Operators\n",
    "# 2. Arithematic Operator\n",
    "# addition\n",
    "print(10+12)\n",
    "# substraction\n",
    "print(10.2 - 2.4)\n",
    "# Multiplication\n",
    "print(10*3)\n",
    "# Division\n",
    "print(22/7)\n",
    "# Modulo\n",
    "print(81%7)\n",
    "# Floor Division\n",
    "print(34//4)\n",
    "# Power\n",
    "print(3**6)"
   ]
  },
  {
   "cell_type": "code",
   "execution_count": 5,
   "metadata": {},
   "outputs": [],
   "source": [
    "# 3. Relational Operator\n",
    "# >, <, >=,<=  (I personally made a lot of mistake in this)\n",
    "# ==, !=, difference between =, =="
   ]
  },
  {
   "cell_type": "code",
   "execution_count": 6,
   "metadata": {},
   "outputs": [
    {
     "data": {
      "text/plain": [
       "False"
      ]
     },
     "execution_count": 6,
     "metadata": {},
     "output_type": "execute_result"
    }
   ],
   "source": [
    "12 > 13"
   ]
  },
  {
   "cell_type": "code",
   "execution_count": 7,
   "metadata": {},
   "outputs": [
    {
     "data": {
      "text/plain": [
       "True"
      ]
     },
     "execution_count": 7,
     "metadata": {},
     "output_type": "execute_result"
    }
   ],
   "source": [
    "12 < 13"
   ]
  },
  {
   "cell_type": "code",
   "execution_count": 8,
   "metadata": {},
   "outputs": [
    {
     "data": {
      "text/plain": [
       "False"
      ]
     },
     "execution_count": 8,
     "metadata": {},
     "output_type": "execute_result"
    }
   ],
   "source": [
    "12 >= 13"
   ]
  },
  {
   "cell_type": "code",
   "execution_count": 9,
   "metadata": {},
   "outputs": [
    {
     "data": {
      "text/plain": [
       "True"
      ]
     },
     "execution_count": 9,
     "metadata": {},
     "output_type": "execute_result"
    }
   ],
   "source": [
    "12 <= 13"
   ]
  },
  {
   "cell_type": "code",
   "execution_count": 10,
   "metadata": {},
   "outputs": [
    {
     "data": {
      "text/plain": [
       "False"
      ]
     },
     "execution_count": 10,
     "metadata": {},
     "output_type": "execute_result"
    }
   ],
   "source": [
    "12 == 13"
   ]
  },
  {
   "cell_type": "code",
   "execution_count": 11,
   "metadata": {},
   "outputs": [
    {
     "data": {
      "text/plain": [
       "True"
      ]
     },
     "execution_count": 11,
     "metadata": {},
     "output_type": "execute_result"
    }
   ],
   "source": [
    "12 != 13"
   ]
  },
  {
   "cell_type": "code",
   "execution_count": 14,
   "metadata": {},
   "outputs": [
    {
     "name": "stdout",
     "output_type": "stream",
     "text": [
      "222\n",
      "Adult\n"
     ]
    }
   ],
   "source": [
    "# Example\n",
    "age = int(input())\n",
    "if age <= 18:\n",
    "    print('Minor')\n",
    "else:\n",
    "    print('Adult')"
   ]
  },
  {
   "cell_type": "code",
   "execution_count": 15,
   "metadata": {},
   "outputs": [],
   "source": [
    "# difference between = and =="
   ]
  },
  {
   "cell_type": "code",
   "execution_count": 2,
   "metadata": {},
   "outputs": [
    {
     "name": "stdout",
     "output_type": "stream",
     "text": [
      "Maths:12\n",
      "Physics:13\n",
      "False\n"
     ]
    }
   ],
   "source": [
    "# 4. Logical Operator\n",
    "# or, and, not\n",
    "\n",
    "# A or B\n",
    "# Any one of A or B is True then result will also be True\n",
    "\n",
    "Maths = int(input('Maths:'))\n",
    "Physics = int(input('Physics:'))\n",
    "scholarship = False\n",
    "\n",
    "if Maths > 70 or Physics > 70:\n",
    "    scholarship = True\n",
    "\n",
    "print(scholarship)"
   ]
  },
  {
   "cell_type": "code",
   "execution_count": 5,
   "metadata": {},
   "outputs": [
    {
     "name": "stdout",
     "output_type": "stream",
     "text": [
      "Maths:98\n",
      "Physics:98\n",
      "True\n"
     ]
    }
   ],
   "source": [
    "# A and B\n",
    "# Both conditions A and B should be correct for reuslt to be True\n",
    "Maths1 = int(input('Maths:'))\n",
    "Physics1 = int(input('Physics:'))\n",
    "scholarship1 = False\n",
    "\n",
    "if Maths1 > 90 and Physics1 > 90:\n",
    "    scholarship1 = True\n",
    "\n",
    "print(scholarship1)"
   ]
  },
  {
   "cell_type": "code",
   "execution_count": 9,
   "metadata": {},
   "outputs": [
    {
     "name": "stdout",
     "output_type": "stream",
     "text": [
      "12\n",
      "Minor = True\n"
     ]
    }
   ],
   "source": [
    "# not A\n",
    "# reverses the condition\n",
    "age = int(input())\n",
    "Minor = True\n",
    "if age > 18:\n",
    "    print('Minor =', not(Minor))\n",
    "else:\n",
    "    print('Minor =',Minor)"
   ]
  }
 ],
 "metadata": {
  "kernelspec": {
   "display_name": "Python 3",
   "language": "python",
   "name": "python3"
  },
  "language_info": {
   "codemirror_mode": {
    "name": "ipython",
    "version": 3
   },
   "file_extension": ".py",
   "mimetype": "text/x-python",
   "name": "python",
   "nbconvert_exporter": "python",
   "pygments_lexer": "ipython3",
   "version": "3.8.3"
  }
 },
 "nbformat": 4,
 "nbformat_minor": 4
}
