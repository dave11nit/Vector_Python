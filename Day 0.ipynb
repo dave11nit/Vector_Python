{
 "cells": [
  {
   "cell_type": "markdown",
   "metadata": {},
   "source": [
    "# Welocome everyone. Day 0"
   ]
  },
  {
   "cell_type": "code",
   "execution_count": 2,
   "metadata": {},
   "outputs": [],
   "source": [
    "# Content \n",
    "# 1. Tools we will be using (Anaconda(Jupyter Notebook), MySQL workbench, VS code, MS Excel, PowerBI)\n",
    "# 2. Books (for python and SQL course)\n",
    "# books link\n",
    "# python book - https://books.trinket.io/pfe/index.html -- By Dr. Charles Severance\n",
    "# python - https://pypod.github.io/ -- IIT Madras\n",
    "# SQL - http://www.softouch.on.ca/kb/data/Getting%20Started%20with%20SQL.pdf -- Getting started with SQL (O'Reilly)\n",
    "# Practice makes a man perfect"
   ]
  },
  {
   "cell_type": "code",
   "execution_count": 1,
   "metadata": {},
   "outputs": [],
   "source": [
    "# Course Content\n",
    "# Week 1\n",
    "# Python Basics\n",
    "# Day 1 --Some important stuff(why python, indentation, comments), Basic data types, Operators, print staements\n",
    "# Day 2 --Strings, String Methods\n",
    "# Day 3 --Input type conversion,if-else,nested if else statements, break, continue,pass keywords\n",
    "# Day 4 --While loops, for loop, list comprehension\n",
    "# Day 5 --loops Continued\n",
    "# -- Commencement of week 1\n",
    "\n",
    "# Python Little bit Advanced\n",
    "# Week 2\n",
    "# Day 6-- Functions\n",
    "# Day 7--Lists, list methods\n",
    "# Day 8--Tuples, Sets, Dictionary\n",
    "# Day 9--Math, Random Libraries\n",
    "# Day 10--Recursion\n",
    "\n",
    "# Other Python Important Concepts\n",
    "# Object oriented programming (OOPs) --  https://www.youtube.com/watch?v=ZDa-Z5JzLYM&list=PL-osiE80TeTsqhIuOqKhwlXsIBIdSeYtc&ab_channel=CoreySchafer\n",
    "\n",
    "# This provides most of the beginner level knowledge of Python Programming\n",
    "# Rest depends on practice and Searching for different methods to solve a problem. GOOGLE EVERYTHING!!"
   ]
  },
  {
   "cell_type": "code",
   "execution_count": null,
   "metadata": {},
   "outputs": [],
   "source": []
  }
 ],
 "metadata": {
  "kernelspec": {
   "display_name": "Python 3",
   "language": "python",
   "name": "python3"
  },
  "language_info": {
   "codemirror_mode": {
    "name": "ipython",
    "version": 3
   },
   "file_extension": ".py",
   "mimetype": "text/x-python",
   "name": "python",
   "nbconvert_exporter": "python",
   "pygments_lexer": "ipython3",
   "version": "3.8.3"
  }
 },
 "nbformat": 4,
 "nbformat_minor": 4
}
